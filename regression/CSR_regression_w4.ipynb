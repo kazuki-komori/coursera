{
  "nbformat": 4,
  "nbformat_minor": 0,
  "metadata": {
    "colab": {
      "name": "CSR_regression_w4.ipynb",
      "provenance": [],
      "mount_file_id": "157aDdhFKmF6AOzRDefXMWSw8Pq0qcSb6",
      "authorship_tag": "ABX9TyO3WHydVOkPR1s00iKoYiOv",
      "include_colab_link": true
    },
    "kernelspec": {
      "name": "python3",
      "display_name": "Python 3"
    },
    "language_info": {
      "name": "python"
    }
  },
  "cells": [
    {
      "cell_type": "markdown",
      "metadata": {
        "id": "view-in-github",
        "colab_type": "text"
      },
      "source": [
        "<a href=\"https://colab.research.google.com/github/kazuki-komori/coursera/blob/main/regression/CSR_regression_w4.ipynb\" target=\"_parent\"><img src=\"https://colab.research.google.com/assets/colab-badge.svg\" alt=\"Open In Colab\"/></a>"
      ]
    },
    {
      "cell_type": "markdown",
      "source": [
        "## Coursera 回帰 第4回\n",
        "\n",
        "https://www.coursera.org/learn/ml-regression/supplement/MhFOa/polynomial-regression\n",
        "\n",
        "このノートでは、さまざまな回帰モデルを比較して、どのモデルが最も適合しているかを評価します。このトピックを検討する手段として、多項式回帰を使用します。特に、以下のことを行います。\n",
        "\n",
        "- 配列と次数を受け取り、各列が次数の合計までの多項式値の配列となるデータフレームを返す関数を作成せよ。\n",
        "\n",
        "  Write a function to take an an array and a degree and return an data frame where each column is the array to a polynomial value up to the total degree.\n",
        "\n",
        "- プロットツール（例：matplotlib）を使って、多項式回帰を可視化する。\n",
        "\n",
        "  Use a plotting tool (e.g. matplotlib) to visualize polynomial regressions\n",
        "\n",
        "- プロットツール(例：matplotlib)を使って、データの異なるサブセットで同じ多項式次数を可視化する\n",
        "\n",
        "  Use a plotting tool (e.g. matplotlib) to visualize the same polynomial degree on different subsets of the data\n",
        "\n",
        "- 検証セットを使って、多項式次数を選択する\n",
        "\n",
        "  Use a validation set to select a polynomial degree\n",
        "\n",
        "- テストデータを使って最終的な適合度を評価する\n",
        "\n",
        "  Assess the final fit using test data\n"
      ],
      "metadata": {
        "id": "AgbRnjsMoUCQ"
      }
    },
    {
      "cell_type": "markdown",
      "source": [
        "## Setup"
      ],
      "metadata": {
        "id": "2eE79zITZwAz"
      }
    },
    {
      "cell_type": "code",
      "execution_count": null,
      "metadata": {
        "colab": {
          "base_uri": "https://localhost:8080/"
        },
        "id": "Z0mUAgb_oTO3",
        "outputId": "01b00d88-4e3e-4ba7-f450-23e9b135eb76"
      },
      "outputs": [
        {
          "output_type": "stream",
          "name": "stdout",
          "text": [
            "Collecting turicreate\n",
            "  Downloading turicreate-6.4.1-cp37-cp37m-manylinux1_x86_64.whl (92.0 MB)\n",
            "\u001b[K     |████████████████████████████████| 92.0 MB 14 kB/s \n",
            "\u001b[?25hRequirement already satisfied: requests>=2.9.1 in /usr/local/lib/python3.7/dist-packages (from turicreate) (2.23.0)\n",
            "Requirement already satisfied: decorator>=4.0.9 in /usr/local/lib/python3.7/dist-packages (from turicreate) (4.4.2)\n",
            "Collecting tensorflow<2.1.0,>=2.0.0\n",
            "  Downloading tensorflow-2.0.4-cp37-cp37m-manylinux2010_x86_64.whl (86.4 MB)\n",
            "\u001b[K     |████████████████████████████████| 86.4 MB 68 kB/s \n",
            "\u001b[?25hRequirement already satisfied: pillow>=5.2.0 in /usr/local/lib/python3.7/dist-packages (from turicreate) (7.1.2)\n",
            "Requirement already satisfied: pandas>=0.23.2 in /usr/local/lib/python3.7/dist-packages (from turicreate) (1.3.5)\n",
            "Collecting resampy==0.2.1\n",
            "  Downloading resampy-0.2.1.tar.gz (322 kB)\n",
            "\u001b[K     |████████████████████████████████| 322 kB 40.5 MB/s \n",
            "\u001b[?25hRequirement already satisfied: scipy>=1.1.0 in /usr/local/lib/python3.7/dist-packages (from turicreate) (1.4.1)\n",
            "Requirement already satisfied: numpy in /usr/local/lib/python3.7/dist-packages (from turicreate) (1.21.6)\n",
            "Collecting prettytable==0.7.2\n",
            "  Downloading prettytable-0.7.2.zip (28 kB)\n",
            "Collecting numba<0.51.0\n",
            "  Downloading numba-0.50.1-cp37-cp37m-manylinux2014_x86_64.whl (3.6 MB)\n",
            "\u001b[K     |████████████████████████████████| 3.6 MB 45.4 MB/s \n",
            "\u001b[?25hCollecting coremltools==3.3\n",
            "  Downloading coremltools-3.3-cp37-none-manylinux1_x86_64.whl (3.5 MB)\n",
            "\u001b[K     |████████████████████████████████| 3.5 MB 42.6 MB/s \n",
            "\u001b[?25hRequirement already satisfied: six>=1.10.0 in /usr/local/lib/python3.7/dist-packages (from turicreate) (1.15.0)\n",
            "Requirement already satisfied: protobuf>=3.1.0 in /usr/local/lib/python3.7/dist-packages (from coremltools==3.3->turicreate) (3.17.3)\n",
            "Collecting llvmlite<0.34,>=0.33.0.dev0\n",
            "  Downloading llvmlite-0.33.0-cp37-cp37m-manylinux1_x86_64.whl (18.3 MB)\n",
            "\u001b[K     |████████████████████████████████| 18.3 MB 432 kB/s \n",
            "\u001b[?25hRequirement already satisfied: setuptools in /usr/local/lib/python3.7/dist-packages (from numba<0.51.0->turicreate) (57.4.0)\n",
            "Requirement already satisfied: python-dateutil>=2.7.3 in /usr/local/lib/python3.7/dist-packages (from pandas>=0.23.2->turicreate) (2.8.2)\n",
            "Requirement already satisfied: pytz>=2017.3 in /usr/local/lib/python3.7/dist-packages (from pandas>=0.23.2->turicreate) (2022.1)\n",
            "Requirement already satisfied: certifi>=2017.4.17 in /usr/local/lib/python3.7/dist-packages (from requests>=2.9.1->turicreate) (2021.10.8)\n",
            "Requirement already satisfied: chardet<4,>=3.0.2 in /usr/local/lib/python3.7/dist-packages (from requests>=2.9.1->turicreate) (3.0.4)\n",
            "Requirement already satisfied: idna<3,>=2.5 in /usr/local/lib/python3.7/dist-packages (from requests>=2.9.1->turicreate) (2.10)\n",
            "Requirement already satisfied: urllib3!=1.25.0,!=1.25.1,<1.26,>=1.21.1 in /usr/local/lib/python3.7/dist-packages (from requests>=2.9.1->turicreate) (1.24.3)\n",
            "Requirement already satisfied: absl-py>=0.7.0 in /usr/local/lib/python3.7/dist-packages (from tensorflow<2.1.0,>=2.0.0->turicreate) (1.0.0)\n",
            "Requirement already satisfied: astor>=0.6.0 in /usr/local/lib/python3.7/dist-packages (from tensorflow<2.1.0,>=2.0.0->turicreate) (0.8.1)\n",
            "Collecting gast==0.2.2\n",
            "  Downloading gast-0.2.2.tar.gz (10 kB)\n",
            "Collecting keras-applications>=1.0.8\n",
            "  Downloading Keras_Applications-1.0.8-py3-none-any.whl (50 kB)\n",
            "\u001b[K     |████████████████████████████████| 50 kB 6.4 MB/s \n",
            "\u001b[?25hRequirement already satisfied: opt-einsum>=2.3.2 in /usr/local/lib/python3.7/dist-packages (from tensorflow<2.1.0,>=2.0.0->turicreate) (3.3.0)\n",
            "Collecting tensorboard<2.1.0,>=2.0.0\n",
            "  Downloading tensorboard-2.0.2-py3-none-any.whl (3.8 MB)\n",
            "\u001b[K     |████████████████████████████████| 3.8 MB 41.4 MB/s \n",
            "\u001b[?25hRequirement already satisfied: grpcio>=1.8.6 in /usr/local/lib/python3.7/dist-packages (from tensorflow<2.1.0,>=2.0.0->turicreate) (1.44.0)\n",
            "Collecting h5py<=2.10.0\n",
            "  Downloading h5py-2.10.0-cp37-cp37m-manylinux1_x86_64.whl (2.9 MB)\n",
            "\u001b[K     |████████████████████████████████| 2.9 MB 47.6 MB/s \n",
            "\u001b[?25hRequirement already satisfied: wheel>=0.26 in /usr/local/lib/python3.7/dist-packages (from tensorflow<2.1.0,>=2.0.0->turicreate) (0.37.1)\n",
            "Collecting tensorflow-estimator<2.1.0,>=2.0.0\n",
            "  Downloading tensorflow_estimator-2.0.1-py2.py3-none-any.whl (449 kB)\n",
            "\u001b[K     |████████████████████████████████| 449 kB 45.3 MB/s \n",
            "\u001b[?25hRequirement already satisfied: termcolor>=1.1.0 in /usr/local/lib/python3.7/dist-packages (from tensorflow<2.1.0,>=2.0.0->turicreate) (1.1.0)\n",
            "Requirement already satisfied: wrapt>=1.11.1 in /usr/local/lib/python3.7/dist-packages (from tensorflow<2.1.0,>=2.0.0->turicreate) (1.14.0)\n",
            "Collecting numpy\n",
            "  Downloading numpy-1.18.5-cp37-cp37m-manylinux1_x86_64.whl (20.1 MB)\n",
            "\u001b[K     |████████████████████████████████| 20.1 MB 1.3 MB/s \n",
            "\u001b[?25hRequirement already satisfied: google-pasta>=0.1.6 in /usr/local/lib/python3.7/dist-packages (from tensorflow<2.1.0,>=2.0.0->turicreate) (0.2.0)\n",
            "Requirement already satisfied: keras-preprocessing>=1.0.5 in /usr/local/lib/python3.7/dist-packages (from tensorflow<2.1.0,>=2.0.0->turicreate) (1.1.2)\n",
            "Requirement already satisfied: google-auth-oauthlib<0.5,>=0.4.1 in /usr/local/lib/python3.7/dist-packages (from tensorboard<2.1.0,>=2.0.0->tensorflow<2.1.0,>=2.0.0->turicreate) (0.4.6)\n",
            "Requirement already satisfied: google-auth<2,>=1.6.3 in /usr/local/lib/python3.7/dist-packages (from tensorboard<2.1.0,>=2.0.0->tensorflow<2.1.0,>=2.0.0->turicreate) (1.35.0)\n",
            "Requirement already satisfied: markdown>=2.6.8 in /usr/local/lib/python3.7/dist-packages (from tensorboard<2.1.0,>=2.0.0->tensorflow<2.1.0,>=2.0.0->turicreate) (3.3.6)\n",
            "Requirement already satisfied: werkzeug>=0.11.15 in /usr/local/lib/python3.7/dist-packages (from tensorboard<2.1.0,>=2.0.0->tensorflow<2.1.0,>=2.0.0->turicreate) (1.0.1)\n",
            "Requirement already satisfied: cachetools<5.0,>=2.0.0 in /usr/local/lib/python3.7/dist-packages (from google-auth<2,>=1.6.3->tensorboard<2.1.0,>=2.0.0->tensorflow<2.1.0,>=2.0.0->turicreate) (4.2.4)\n",
            "Requirement already satisfied: rsa<5,>=3.1.4 in /usr/local/lib/python3.7/dist-packages (from google-auth<2,>=1.6.3->tensorboard<2.1.0,>=2.0.0->tensorflow<2.1.0,>=2.0.0->turicreate) (4.8)\n",
            "Requirement already satisfied: pyasn1-modules>=0.2.1 in /usr/local/lib/python3.7/dist-packages (from google-auth<2,>=1.6.3->tensorboard<2.1.0,>=2.0.0->tensorflow<2.1.0,>=2.0.0->turicreate) (0.2.8)\n",
            "Requirement already satisfied: requests-oauthlib>=0.7.0 in /usr/local/lib/python3.7/dist-packages (from google-auth-oauthlib<0.5,>=0.4.1->tensorboard<2.1.0,>=2.0.0->tensorflow<2.1.0,>=2.0.0->turicreate) (1.3.1)\n",
            "Requirement already satisfied: importlib-metadata>=4.4 in /usr/local/lib/python3.7/dist-packages (from markdown>=2.6.8->tensorboard<2.1.0,>=2.0.0->tensorflow<2.1.0,>=2.0.0->turicreate) (4.11.3)\n",
            "Requirement already satisfied: zipp>=0.5 in /usr/local/lib/python3.7/dist-packages (from importlib-metadata>=4.4->markdown>=2.6.8->tensorboard<2.1.0,>=2.0.0->tensorflow<2.1.0,>=2.0.0->turicreate) (3.8.0)\n",
            "Requirement already satisfied: typing-extensions>=3.6.4 in /usr/local/lib/python3.7/dist-packages (from importlib-metadata>=4.4->markdown>=2.6.8->tensorboard<2.1.0,>=2.0.0->tensorflow<2.1.0,>=2.0.0->turicreate) (4.2.0)\n",
            "Requirement already satisfied: pyasn1<0.5.0,>=0.4.6 in /usr/local/lib/python3.7/dist-packages (from pyasn1-modules>=0.2.1->google-auth<2,>=1.6.3->tensorboard<2.1.0,>=2.0.0->tensorflow<2.1.0,>=2.0.0->turicreate) (0.4.8)\n",
            "Requirement already satisfied: oauthlib>=3.0.0 in /usr/local/lib/python3.7/dist-packages (from requests-oauthlib>=0.7.0->google-auth-oauthlib<0.5,>=0.4.1->tensorboard<2.1.0,>=2.0.0->tensorflow<2.1.0,>=2.0.0->turicreate) (3.2.0)\n",
            "Building wheels for collected packages: prettytable, resampy, gast\n",
            "  Building wheel for prettytable (setup.py) ... \u001b[?25l\u001b[?25hdone\n",
            "  Created wheel for prettytable: filename=prettytable-0.7.2-py3-none-any.whl size=13714 sha256=a1e9a3963f72f87bccd646d1ebab3b3fba05508df08b2c2091986cce85f08d1d\n",
            "  Stored in directory: /root/.cache/pip/wheels/b2/7f/f6/f180315b584f00445045ff1699b550fa895d09471337ce21c6\n",
            "  Building wheel for resampy (setup.py) ... \u001b[?25l\u001b[?25hdone\n",
            "  Created wheel for resampy: filename=resampy-0.2.1-py3-none-any.whl size=320859 sha256=ce2f5dbe2d8fc8d815803cea062fa64d8ca7863a8497e0faa3a11d771bed1930\n",
            "  Stored in directory: /root/.cache/pip/wheels/71/74/53/d5ceb7c5ee7a168c7d106041863e71ac3273f4a4677743a284\n",
            "  Building wheel for gast (setup.py) ... \u001b[?25l\u001b[?25hdone\n",
            "  Created wheel for gast: filename=gast-0.2.2-py3-none-any.whl size=7554 sha256=71a959d5cb9cc4514937f0285d4ae1172f9d09c265c3d100a04d76caeb702b6e\n",
            "  Stored in directory: /root/.cache/pip/wheels/21/7f/02/420f32a803f7d0967b48dd823da3f558c5166991bfd204eef3\n",
            "Successfully built prettytable resampy gast\n",
            "Installing collected packages: numpy, llvmlite, h5py, tensorflow-estimator, tensorboard, numba, keras-applications, gast, tensorflow, resampy, prettytable, coremltools, turicreate\n",
            "  Attempting uninstall: numpy\n",
            "    Found existing installation: numpy 1.21.6\n",
            "    Uninstalling numpy-1.21.6:\n",
            "      Successfully uninstalled numpy-1.21.6\n",
            "  Attempting uninstall: llvmlite\n",
            "    Found existing installation: llvmlite 0.34.0\n",
            "    Uninstalling llvmlite-0.34.0:\n",
            "      Successfully uninstalled llvmlite-0.34.0\n",
            "  Attempting uninstall: h5py\n",
            "    Found existing installation: h5py 3.1.0\n",
            "    Uninstalling h5py-3.1.0:\n",
            "      Successfully uninstalled h5py-3.1.0\n",
            "  Attempting uninstall: tensorflow-estimator\n",
            "    Found existing installation: tensorflow-estimator 2.8.0\n",
            "    Uninstalling tensorflow-estimator-2.8.0:\n",
            "      Successfully uninstalled tensorflow-estimator-2.8.0\n",
            "  Attempting uninstall: tensorboard\n",
            "    Found existing installation: tensorboard 2.8.0\n",
            "    Uninstalling tensorboard-2.8.0:\n",
            "      Successfully uninstalled tensorboard-2.8.0\n",
            "  Attempting uninstall: numba\n",
            "    Found existing installation: numba 0.51.2\n",
            "    Uninstalling numba-0.51.2:\n",
            "      Successfully uninstalled numba-0.51.2\n",
            "  Attempting uninstall: gast\n",
            "    Found existing installation: gast 0.5.3\n",
            "    Uninstalling gast-0.5.3:\n",
            "      Successfully uninstalled gast-0.5.3\n",
            "  Attempting uninstall: tensorflow\n",
            "    Found existing installation: tensorflow 2.8.0\n",
            "    Uninstalling tensorflow-2.8.0:\n"
          ]
        }
      ],
      "source": [
        "# unzip datasets\n",
        "!unzip -q /content/drive/MyDrive/coursera/home_data.zip\n",
        "!unzip -q /content/drive/MyDrive/coursera/kc_house_data.csv.zip\n",
        "# install libraries\n",
        "!pip install turicreate\n"
      ]
    },
    {
      "cell_type": "code",
      "source": [
        "import turicreate\n",
        "import seaborn as sns\n",
        "import matplotlib.pyplot as plt\n",
        "import pandas as pd"
      ],
      "metadata": {
        "id": "ro-CYPVqZnMU"
      },
      "execution_count": null,
      "outputs": []
    },
    {
      "cell_type": "code",
      "source": [
        "df_kc_house = pd.read_csv('/content/kc_house_data.csv')\n",
        "df_kc_house.head(5)"
      ],
      "metadata": {
        "id": "vmUCgJMoZui6"
      },
      "execution_count": null,
      "outputs": []
    },
    {
      "cell_type": "markdown",
      "source": [
        "## (2) 指定された累乗を返す関数を作成する"
      ],
      "metadata": {
        "id": "7bTB4usPbRgv"
      }
    },
    {
      "cell_type": "code",
      "source": [
        "def polynomial_sframe(feature, degree):\n",
        "    # assume that degree >= 1\n",
        "    # initialize the SFrame:\n",
        "    df_out = pd.DataFrame()\n",
        "    # and set poly_sframe['power_1'] equal to the passed feature\n",
        "    df_out[\"power_1\"] = feature\n",
        "    # first check if degree > 1\n",
        "    if degree > 1:\n",
        "        # then loop over the remaining degrees:\n",
        "        for power in range(2, degree+1):\n",
        "            # first we'll give the column a name:\n",
        "            # assign poly_sframe[name] to be feature^power\n",
        "            df_out[f\"power_{power}\"] = feature.apply(lambda row: row**power)\n",
        "    return df_out"
      ],
      "metadata": {
        "id": "Ipp8q-QfbWck"
      },
      "execution_count": null,
      "outputs": []
    },
    {
      "cell_type": "markdown",
      "source": [
        "## (3) `sqft_living`, `price` でデータをソートする"
      ],
      "metadata": {
        "id": "MWI6NX46hX1l"
      }
    },
    {
      "cell_type": "code",
      "source": [
        "df_kc_house = df_kc_house.sort_values(by=['sqft_living', 'price'])\n",
        "df_kc_house[['sqft_living', 'price']].head(5)"
      ],
      "metadata": {
        "id": "Qfv_R5m9iCsO"
      },
      "execution_count": null,
      "outputs": []
    },
    {
      "cell_type": "markdown",
      "source": [
        "## (4) (5) 1次の項を作ってみる"
      ],
      "metadata": {
        "id": "Lc025dJAkBdV"
      }
    },
    {
      "cell_type": "code",
      "source": [
        "df_poly1 = polynomial_sframe(df_kc_house[\"sqft_living\"], 1)\n",
        "df_poly1[\"price\"] = df_kc_house[\"price\"]"
      ],
      "metadata": {
        "id": "tjB_kFnbkIkX"
      },
      "execution_count": null,
      "outputs": []
    },
    {
      "cell_type": "markdown",
      "source": [
        "## (6) ライブラリを使って1次式に対して単回帰を実装してみる"
      ],
      "metadata": {
        "id": "vK_i1Ze8k4nc"
      }
    },
    {
      "cell_type": "code",
      "source": [
        "model1 = turicreate.linear_regression.create(turicreate.SFrame(df_poly1), target = 'price', features = ['power_1'], validation_set = None)"
      ],
      "metadata": {
        "id": "NB6wB2NAk-c6"
      },
      "execution_count": null,
      "outputs": []
    },
    {
      "cell_type": "markdown",
      "source": [
        "## (7) 当てはまりを可視化してみる"
      ],
      "metadata": {
        "id": "ww5YX42Ms2JQ"
      }
    },
    {
      "cell_type": "code",
      "source": [
        "import matplotlib.pyplot as plt\n",
        "%matplotlib inline\n",
        "plt.plot(df_poly1['power_1'], df_poly1['price'], '.', df_poly1['power_1'], model1.predict(turicreate.SFrame(df_poly1)), '-')\n",
        "plt.show()"
      ],
      "metadata": {
        "id": "Ifw-AQPns4D9"
      },
      "execution_count": null,
      "outputs": []
    },
    {
      "cell_type": "markdown",
      "source": [
        "## (8) 次数を上げて plot してみる"
      ],
      "metadata": {
        "id": "rE07uQrZt6p1"
      }
    },
    {
      "cell_type": "code",
      "source": [
        "def plot_polynominal(start_n = 1, end_n = 5, df=df_kc_house):\n",
        "  for n in range(start_n, end_n+1):\n",
        "    # 特徴量を作成\n",
        "    df_poly = polynomial_sframe(df[\"sqft_living\"], n)\n",
        "    df_poly[\"price\"] = df[\"price\"]\n",
        "    _feature_col = df_poly.columns.drop([\"price\"]).to_list()\n",
        "    # fit\n",
        "    model = turicreate.linear_regression.create(turicreate.SFrame(df_poly), target = 'price', features = _feature_col, validation_set = None, verbose=False)\n",
        "    # 予測\n",
        "    _pred = model.predict(turicreate.SFrame(df_poly))\n",
        "    # plot\n",
        "    print(f\"{n}次式\")\n",
        "    plt.rcParams[\"figure.figsize\"] = (10, 4)\n",
        "    plt.plot(df_poly[_feature_col], df_poly['price'], '.', df_poly[_feature_col], _pred, '-')\n",
        "    plt.show()\n",
        "\n",
        "plot_polynominal()"
      ],
      "metadata": {
        "id": "JGIoWGC2vqv5"
      },
      "execution_count": null,
      "outputs": []
    },
    {
      "cell_type": "markdown",
      "source": [
        "## (9) 15次式plot\n",
        "\n",
        "明らかに過学習w"
      ],
      "metadata": {
        "id": "88Lpkkh74Inl"
      }
    },
    {
      "cell_type": "code",
      "source": [
        "plot_polynominal(start_n = 15, end_n = 15)"
      ],
      "metadata": {
        "id": "E4hNTPTE4C4S"
      },
      "execution_count": null,
      "outputs": []
    },
    {
      "cell_type": "markdown",
      "source": [
        "## (10) データの分割"
      ],
      "metadata": {
        "id": "xNcZi1D-gyvy"
      }
    },
    {
      "cell_type": "code",
      "source": [
        "_df1, _df2 = turicreate.SFrame(df_kc_house).random_split(.5, seed=0)\n",
        "df_set1, df_set2 = turicreate.SFrame(_df1).random_split(.5, seed=0)\n",
        "df_set3, df_set4 = turicreate.SFrame(_df2).random_split(.5, seed=0)"
      ],
      "metadata": {
        "id": "GALvC8X8g29g"
      },
      "execution_count": null,
      "outputs": []
    },
    {
      "cell_type": "markdown",
      "source": [
        "## (11) 4つの set を 次数15のモデルに適用する"
      ],
      "metadata": {
        "id": "oQsTWmo0hEh8"
      }
    },
    {
      "cell_type": "code",
      "source": [
        "plot_polynominal(start_n = 15, end_n = 15, df = df_set1)\n",
        "plot_polynominal(start_n = 15, end_n = 15, df = df_set2)\n",
        "plot_polynominal(start_n = 15, end_n = 15, df = df_set3)\n",
        "plot_polynominal(start_n = 15, end_n = 15, df = df_set4)"
      ],
      "metadata": {
        "id": "mGMazqeYhMWp"
      },
      "execution_count": null,
      "outputs": []
    },
    {
      "cell_type": "markdown",
      "source": [
        "## (14) テストデータの分割"
      ],
      "metadata": {
        "id": "Gpf-dwje5_vg"
      }
    },
    {
      "cell_type": "code",
      "source": [
        "df_training_and_validation, df_test = turicreate.SFrame(df_kc_house).random_split(.9, seed=1)\n",
        "df_train, df_valid = df_training_and_validation.random_split(.5, seed=1)"
      ],
      "metadata": {
        "id": "JomF4ABo5QRk"
      },
      "execution_count": null,
      "outputs": []
    },
    {
      "cell_type": "markdown",
      "source": [
        "## (15) 次数1-15の間で検証する"
      ],
      "metadata": {
        "id": "U3djsSleStw6"
      }
    },
    {
      "cell_type": "code",
      "source": [
        "def polynominal_with_valid(start_n = 1, end_n = 5):\n",
        "  rss_arr = []\n",
        "  for n in range(start_n, end_n+1):\n",
        "    # 特徴量を作成\n",
        "    df_poly = polynomial_sframe(df_train[\"sqft_living\"], n)\n",
        "    df_poly[\"price\"] = df_train[\"price\"]\n",
        "    _feature_col = df_poly.columns.drop([\"price\"]).to_list()\n",
        "    # fit\n",
        "    model = turicreate.linear_regression.create(turicreate.SFrame(df_poly), target = 'price', features = _feature_col, validation_set = None, verbose=False)\n",
        "    # 予測\n",
        "    df_poly_valid = polynomial_sframe(df_valid[\"sqft_living\"], n)\n",
        "    _pred = model.predict(turicreate.SFrame(df_poly_valid))\n",
        "    # rss\n",
        "    _rss = ((df_valid[\"price\"].to_numpy() - _pred)**2).sum()\n",
        "    print(f\"次数: {n}\\t RSS: {_rss: .2f}\\n\")\n",
        "    rss_arr.append(_rss)\n",
        "  # 可視化\n",
        "  fig, ax = plt.subplots(figsize=(16, 4))\n",
        "  ax.set_ylim((5.5e14, 7e14))\n",
        "  sns.barplot(x=list(range(1, 1+end_n)), y=rss_arr)\n",
        "  plt.show()\n",
        "  return rss_arr\n",
        "\n",
        "rss = polynominal_with_valid(end_n=15)"
      ],
      "metadata": {
        "id": "Pk4Lus-KSwx1"
      },
      "execution_count": null,
      "outputs": []
    },
    {
      "cell_type": "markdown",
      "source": [
        "## (16) 最も RSS が小さいのは？\n",
        "N = 7"
      ],
      "metadata": {
        "id": "EJ1dXckJb9nq"
      }
    },
    {
      "cell_type": "markdown",
      "source": [
        "## (17) N = 7 で TEST の RSS を計算する"
      ],
      "metadata": {
        "id": "O9psFCkWcOGZ"
      }
    },
    {
      "cell_type": "code",
      "source": [
        "def calc_rss_test(N=1):\n",
        "  # 特徴量を作成\n",
        "  df_poly = polynomial_sframe(df_train[\"sqft_living\"], N)\n",
        "  df_poly[\"price\"] = df_train[\"price\"]\n",
        "  _feature_col = df_poly.columns.drop([\"price\"]).to_list()\n",
        "  # fit\n",
        "  model = turicreate.linear_regression.create(turicreate.SFrame(df_poly), target = 'price', features = _feature_col, validation_set = None, verbose=False)\n",
        "  # 予測\n",
        "  df_poly_test = polynomial_sframe(df_test[\"sqft_living\"], N)\n",
        "  _pred = model.predict(turicreate.SFrame(df_poly_test))\n",
        "  # rss\n",
        "  _rss = ((df_test[\"price\"].to_numpy() - _pred)**2).sum()\n",
        "  print(f\"次数: {N}\\t RSS: {_rss: .2f}\\n\")\n",
        "  return _rss\n",
        "\n",
        "calc_rss_test(7)"
      ],
      "metadata": {
        "id": "Dyj73WNAXtdI"
      },
      "execution_count": null,
      "outputs": []
    },
    {
      "cell_type": "code",
      "source": [
        "rss_arr = []\n",
        "for n in range(1, 16):\n",
        "  rss_arr.append(calc_rss_test(n))\n",
        "\n",
        "# 可視化\n",
        "fig, ax = plt.subplots(figsize=(16, 4))\n",
        "ax.set_ylim((1.2e14, 1.3e14))\n",
        "sns.barplot(x=list(range(1, 1+15)), y=rss_arr)\n",
        "plt.show()"
      ],
      "metadata": {
        "id": "5kw8tBWyeYGs"
      },
      "execution_count": null,
      "outputs": []
    }
  ]
}